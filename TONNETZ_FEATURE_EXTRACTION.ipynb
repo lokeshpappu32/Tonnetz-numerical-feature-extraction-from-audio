{
 "cells": [
  {
   "cell_type": "code",
   "execution_count": 2,
   "id": "ae219c2e",
   "metadata": {},
   "outputs": [
    {
     "name": "stdout",
     "output_type": "stream",
     "text": [
      "Tonnetz Features: [-0.00963279  0.05595356 -0.05477609  0.10036923  0.02564785  0.03235753]\n"
     ]
    }
   ],
   "source": [
    "import librosa\n",
    "import numpy as np\n",
    "\n",
    "# Load the speech signal\n",
    "audio_path = 'C:/Users/LOKESH PAPPU/Desktop/NITW/day 11/Dataset Child/Female/F1_01_01.wav'\n",
    "signal, sr = librosa.load(audio_path, sr=None)\n",
    "\n",
    "# Extract tonnetz features\n",
    "tonnetz_features = np.mean(librosa.feature.tonnetz(y=signal, sr=sr).T,axis=0)\n",
    "\n",
    "# Print the tonnetz features\n",
    "print(\"Tonnetz Features:\", tonnetz_features)"
   ]
  },
  {
   "cell_type": "code",
   "execution_count": 3,
   "id": "e295175e",
   "metadata": {},
   "outputs": [
    {
     "name": "stderr",
     "output_type": "stream",
     "text": [
      "C:\\Users\\LOKESH PAPPU\\anaconda3\\lib\\site-packages\\librosa\\core\\spectrum.py:256: UserWarning: n_fft=1024 is too large for input signal of length=960\n",
      "  warnings.warn(\n",
      "C:\\Users\\LOKESH PAPPU\\anaconda3\\lib\\site-packages\\librosa\\core\\spectrum.py:256: UserWarning: n_fft=1024 is too large for input signal of length=992\n",
      "  warnings.warn(\n",
      "C:\\Users\\LOKESH PAPPU\\anaconda3\\lib\\site-packages\\librosa\\core\\spectrum.py:256: UserWarning: n_fft=1024 is too large for input signal of length=736\n",
      "  warnings.warn(\n",
      "C:\\Users\\LOKESH PAPPU\\anaconda3\\lib\\site-packages\\librosa\\core\\spectrum.py:256: UserWarning: n_fft=1024 is too large for input signal of length=800\n",
      "  warnings.warn(\n",
      "C:\\Users\\LOKESH PAPPU\\anaconda3\\lib\\site-packages\\librosa\\core\\spectrum.py:256: UserWarning: n_fft=1024 is too large for input signal of length=896\n",
      "  warnings.warn(\n",
      "C:\\Users\\LOKESH PAPPU\\anaconda3\\lib\\site-packages\\librosa\\core\\spectrum.py:256: UserWarning: n_fft=1024 is too large for input signal of length=928\n",
      "  warnings.warn(\n"
     ]
    }
   ],
   "source": [
    "import os\n",
    "import librosa\n",
    "import numpy as np\n",
    "\n",
    "# Directory path containing the audio files\n",
    "directory = 'C:/Users/LOKESH PAPPU/Desktop/NITW/day 11/Dataset Child/Female/'\n",
    "all_tonnetz_features = []\n",
    "# Iterate over the files in the directory\n",
    "for filename in os.listdir(directory):\n",
    "    if filename.endswith('.wav'):\n",
    "        # Load the audio signal\n",
    "        audio_path = os.path.join(directory, filename)\n",
    "        signal, sr = librosa.load(audio_path, sr=None)\n",
    "        # Extract tonnetz features\n",
    "        tonnetz_features = np.mean(librosa.feature.tonnetz(y=signal, sr=sr).T,axis=0)\n",
    "        all_tonnetz_features.append(tonnetz_features)\n",
    "import pandas as pd\n",
    "df=pd.DataFrame(all_tonnetz_features)\n",
    "df[\"gender\"]=\"female\"\n",
    "df[\"label\"]=\"child\"\n",
    "df.to_csv(\"Child_Female_Tonnetz_Features.csv\",index=False)\n",
    "        \n",
    "\n",
    "        \n",
    "        \n"
   ]
  },
  {
   "cell_type": "code",
   "execution_count": 4,
   "id": "6492f2f9",
   "metadata": {},
   "outputs": [
    {
     "name": "stderr",
     "output_type": "stream",
     "text": [
      "C:\\Users\\LOKESH PAPPU\\anaconda3\\lib\\site-packages\\librosa\\core\\spectrum.py:256: UserWarning: n_fft=1024 is too large for input signal of length=832\n",
      "  warnings.warn(\n",
      "C:\\Users\\LOKESH PAPPU\\anaconda3\\lib\\site-packages\\librosa\\core\\spectrum.py:256: UserWarning: n_fft=1024 is too large for input signal of length=864\n",
      "  warnings.warn(\n",
      "C:\\Users\\LOKESH PAPPU\\anaconda3\\lib\\site-packages\\librosa\\core\\spectrum.py:256: UserWarning: n_fft=1024 is too large for input signal of length=768\n",
      "  warnings.warn(\n",
      "C:\\Users\\LOKESH PAPPU\\anaconda3\\lib\\site-packages\\librosa\\core\\spectrum.py:256: UserWarning: n_fft=1024 is too large for input signal of length=704\n",
      "  warnings.warn(\n",
      "C:\\Users\\LOKESH PAPPU\\anaconda3\\lib\\site-packages\\librosa\\core\\spectrum.py:256: UserWarning: n_fft=1024 is too large for input signal of length=672\n",
      "  warnings.warn(\n",
      "C:\\Users\\LOKESH PAPPU\\anaconda3\\lib\\site-packages\\librosa\\core\\spectrum.py:256: UserWarning: n_fft=1024 is too large for input signal of length=640\n",
      "  warnings.warn(\n"
     ]
    }
   ],
   "source": [
    "import os\n",
    "import librosa\n",
    "import numpy as np\n",
    "\n",
    "# Directory path containing the audio files\n",
    "directory = 'C:/Users/LOKESH PAPPU/Desktop/NITW/day 11/Dataset Child/Male/'\n",
    "all_tonnetz_features = []\n",
    "# Iterate over the files in the directory\n",
    "for filename in os.listdir(directory):\n",
    "    if filename.endswith('.wav'):\n",
    "        # Load the audio signal\n",
    "        audio_path = os.path.join(directory, filename)\n",
    "        signal, sr = librosa.load(audio_path, sr=None)\n",
    "        # Extract tonnetz features\n",
    "        tonnetz_features = np.mean(librosa.feature.tonnetz(y=signal, sr=sr).T,axis=0)\n",
    "        all_tonnetz_features.append(tonnetz_features)\n",
    "import pandas as pd\n",
    "df=pd.DataFrame(all_tonnetz_features)\n",
    "df[\"gender\"]=\"male\"\n",
    "df[\"label\"]=\"child\"\n",
    "df.to_csv(\"Child_Male_Tonnetz_Features.csv\",index=False)"
   ]
  },
  {
   "cell_type": "code",
   "execution_count": 5,
   "id": "6adae09c",
   "metadata": {},
   "outputs": [
    {
     "name": "stderr",
     "output_type": "stream",
     "text": [
      "C:\\Users\\LOKESH PAPPU\\anaconda3\\lib\\site-packages\\librosa\\core\\spectrum.py:256: UserWarning: n_fft=1024 is too large for input signal of length=918\n",
      "  warnings.warn(\n",
      "C:\\Users\\LOKESH PAPPU\\anaconda3\\lib\\site-packages\\librosa\\core\\spectrum.py:256: UserWarning: n_fft=1024 is too large for input signal of length=1008\n",
      "  warnings.warn(\n",
      "C:\\Users\\LOKESH PAPPU\\anaconda3\\lib\\site-packages\\librosa\\core\\spectrum.py:256: UserWarning: n_fft=1024 is too large for input signal of length=828\n",
      "  warnings.warn(\n"
     ]
    }
   ],
   "source": [
    " import os\n",
    "import librosa\n",
    "import numpy as np\n",
    "\n",
    "# Directory path containing the audio files\n",
    "directory = 'C:/Users/LOKESH PAPPU/Desktop/NITW/day 11/Mozilla Dataset Adult/Female/'\n",
    "all_tonnetz_features = []\n",
    "# Iterate over the files in the directory\n",
    "for filename in os.listdir(directory):\n",
    "    if filename.endswith('.mp3'):\n",
    "        # Load the audio signal\n",
    "        audio_path = os.path.join(directory, filename)\n",
    "        signal, sr = librosa.load(audio_path, sr=None)\n",
    "        # Extract tonnetz features\n",
    "        tonnetz_features = np.mean(librosa.feature.tonnetz(y=signal, sr=sr).T,axis=0)\n",
    "        all_tonnetz_features.append(tonnetz_features)\n",
    "import pandas as pd\n",
    "df=pd.DataFrame(all_tonnetz_features)\n",
    "df[\"gender\"]=\"female\"\n",
    "df[\"label\"]=\"adult\"\n",
    "df.to_csv(\"Adult_Female_Tonnetz_Features.csv\",index=False)"
   ]
  },
  {
   "cell_type": "code",
   "execution_count": 6,
   "id": "f465c32e",
   "metadata": {},
   "outputs": [],
   "source": [
    "import os\n",
    "import librosa\n",
    "import numpy as np\n",
    "\n",
    "# Directory path containing the audio files\n",
    "directory = 'C:/Users/LOKESH PAPPU/Desktop/NITW/day 11/Mozilla Dataset Adult/Male/'\n",
    "all_tonnetz_features = []\n",
    "# Iterate over the files in the directory\n",
    "for filename in os.listdir(directory):\n",
    "    if filename.endswith('.mp3'):\n",
    "        # Load the audio signal\n",
    "        audio_path = os.path.join(directory, filename)\n",
    "        signal, sr = librosa.load(audio_path, sr=None)\n",
    "        # Extract tonnetz features\n",
    "        tonnetz_features = np.mean(librosa.feature.tonnetz(y=signal, sr=sr).T,axis=0)\n",
    "        all_tonnetz_features.append(tonnetz_features)\n",
    "import pandas as pd\n",
    "df=pd.DataFrame(all_tonnetz_features)\n",
    "df[\"gender\"]=\"male\"\n",
    "df[\"label\"]=\"adult\"\n",
    "df.to_csv(\"Adult_Male_Tonnetz_Features.csv\",index=False)"
   ]
  },
  {
   "cell_type": "code",
   "execution_count": null,
   "id": "7ea6e233",
   "metadata": {},
   "outputs": [],
   "source": []
  }
 ],
 "metadata": {
  "kernelspec": {
   "display_name": "Python 3",
   "language": "python",
   "name": "python3"
  },
  "language_info": {
   "codemirror_mode": {
    "name": "ipython",
    "version": 3
   },
   "file_extension": ".py",
   "mimetype": "text/x-python",
   "name": "python",
   "nbconvert_exporter": "python",
   "pygments_lexer": "ipython3",
   "version": "3.8.8"
  }
 },
 "nbformat": 4,
 "nbformat_minor": 5
}
